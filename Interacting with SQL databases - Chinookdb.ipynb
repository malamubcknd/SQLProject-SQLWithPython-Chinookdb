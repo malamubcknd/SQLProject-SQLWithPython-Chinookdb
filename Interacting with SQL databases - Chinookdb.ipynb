{
 "cells": [
  {
   "cell_type": "markdown",
   "id": "d3ae5b46",
   "metadata": {},
   "source": [
    "# SERVERLESS CONNECTION (output as SQL output)"
   ]
  },
  {
   "cell_type": "code",
   "execution_count": 1,
   "id": "e43f95a3",
   "metadata": {},
   "outputs": [],
   "source": [
    "#If you haven't installed it already (either by using pip or by anaconda), run the following command in a Jupyter Notebook cell to install the extension\n",
    "#!pip install ipython-sql (i have commented it out since we already downloaded ipython-sql from anaconda)"
   ]
  },
  {
   "cell_type": "code",
   "execution_count": 3,
   "id": "d55f8c85",
   "metadata": {},
   "outputs": [
    {
     "name": "stdout",
     "output_type": "stream",
     "text": [
      "The sql extension is already loaded. To reload it, use:\n",
      "  %reload_ext sql\n"
     ]
    }
   ],
   "source": [
    "#In a Jupyter Notebook cell, load the %sql extension using the %load_ext magic command:\n",
    "%load_ext sql"
   ]
  },
  {
   "cell_type": "code",
   "execution_count": 4,
   "id": "31e6cf99",
   "metadata": {},
   "outputs": [
    {
     "data": {
      "text/plain": [
       "'Connected: @chinook.db'"
      ]
     },
     "execution_count": 4,
     "metadata": {},
     "output_type": "execute_result"
    }
   ],
   "source": [
    "#Use the %sql magic command to connect to your SQLite database. \n",
    "#Replace your_database.db with the actual path to your SQLite database file. \n",
    "#Use forward slashes (/) as path separators even on Windows:\n",
    "#db_path=\"C:/Users/DELL/Documents/All%20Files/ALX Academy/Data%20Science/SQL/SQL%20Files/Extracted%20Module-3-SQL-a-3902/Module%203_%20SQL/Exercises/chinook.db\"\n",
    "#db_path = \"C:/Users/DELL/Documents/All Files/ALX Academy/Data Science/SQL/SQL Files/Extracted Module-3-SQL-a-3902/Module 3_ SQL/Exercises/chinook.db\"\n",
    "#%sql sqlite:///C:/Users/DELL/Documents/All%20Files/ALX%20Academy/Data%20Science/SQL/SQL%20Files/ALX%20SQL%20Tutorial1/Module3_%20SQL/Exercises/chinook.db\n",
    "\n",
    "%sql sqlite:///chinook.db"
   ]
  },
  {
   "cell_type": "code",
   "execution_count": 6,
   "id": "6480f1f9",
   "metadata": {},
   "outputs": [],
   "source": [
    "#checking the table names in chinook database\n",
    "#%sql SELECT name FROM sqlite_master WHERE type='table';"
   ]
  },
  {
   "cell_type": "code",
   "execution_count": 7,
   "id": "6ce9ed6b",
   "metadata": {},
   "outputs": [
    {
     "name": "stdout",
     "output_type": "stream",
     "text": [
      " * sqlite:///chinook.db\n",
      "Done.\n"
     ]
    },
    {
     "data": {
      "text/html": [
       "<table>\n",
       "    <thead>\n",
       "        <tr>\n",
       "            <th>EmployeeId</th>\n",
       "            <th>LastName</th>\n",
       "            <th>FirstName</th>\n",
       "            <th>Title</th>\n",
       "            <th>ReportsTo</th>\n",
       "            <th>BirthDate</th>\n",
       "            <th>HireDate</th>\n",
       "            <th>Address</th>\n",
       "            <th>City</th>\n",
       "            <th>State</th>\n",
       "            <th>Country</th>\n",
       "            <th>PostalCode</th>\n",
       "            <th>Phone</th>\n",
       "            <th>Fax</th>\n",
       "            <th>Email</th>\n",
       "        </tr>\n",
       "    </thead>\n",
       "    <tbody>\n",
       "        <tr>\n",
       "            <td>1</td>\n",
       "            <td>Adams</td>\n",
       "            <td>Andrew</td>\n",
       "            <td>General Manager</td>\n",
       "            <td>None</td>\n",
       "            <td>1962-02-18 00:00:00</td>\n",
       "            <td>2002-08-14 00:00:00</td>\n",
       "            <td>11120 Jasper Ave NW</td>\n",
       "            <td>Edmonton</td>\n",
       "            <td>AB</td>\n",
       "            <td>Canada</td>\n",
       "            <td>T5K 2N1</td>\n",
       "            <td>+1 (780) 428-9482</td>\n",
       "            <td>+1 (780) 428-3457</td>\n",
       "            <td>andrew@chinookcorp.com</td>\n",
       "        </tr>\n",
       "        <tr>\n",
       "            <td>2</td>\n",
       "            <td>Edwards</td>\n",
       "            <td>Nancy</td>\n",
       "            <td>Sales Manager</td>\n",
       "            <td>1</td>\n",
       "            <td>1958-12-08 00:00:00</td>\n",
       "            <td>2002-05-01 00:00:00</td>\n",
       "            <td>825 8 Ave SW</td>\n",
       "            <td>Calgary</td>\n",
       "            <td>AB</td>\n",
       "            <td>Canada</td>\n",
       "            <td>T2P 2T3</td>\n",
       "            <td>+1 (403) 262-3443</td>\n",
       "            <td>+1 (403) 262-3322</td>\n",
       "            <td>nancy@chinookcorp.com</td>\n",
       "        </tr>\n",
       "        <tr>\n",
       "            <td>3</td>\n",
       "            <td>Peacock</td>\n",
       "            <td>Jane</td>\n",
       "            <td>Sales Support Agent</td>\n",
       "            <td>2</td>\n",
       "            <td>1973-08-29 00:00:00</td>\n",
       "            <td>2002-04-01 00:00:00</td>\n",
       "            <td>1111 6 Ave SW</td>\n",
       "            <td>Calgary</td>\n",
       "            <td>AB</td>\n",
       "            <td>Canada</td>\n",
       "            <td>T2P 5M5</td>\n",
       "            <td>+1 (403) 262-3443</td>\n",
       "            <td>+1 (403) 262-6712</td>\n",
       "            <td>jane@chinookcorp.com</td>\n",
       "        </tr>\n",
       "        <tr>\n",
       "            <td>4</td>\n",
       "            <td>Park</td>\n",
       "            <td>Margaret</td>\n",
       "            <td>Sales Support Agent</td>\n",
       "            <td>2</td>\n",
       "            <td>1947-09-19 00:00:00</td>\n",
       "            <td>2003-05-03 00:00:00</td>\n",
       "            <td>683 10 Street SW</td>\n",
       "            <td>Calgary</td>\n",
       "            <td>AB</td>\n",
       "            <td>Canada</td>\n",
       "            <td>T2P 5G3</td>\n",
       "            <td>+1 (403) 263-4423</td>\n",
       "            <td>+1 (403) 263-4289</td>\n",
       "            <td>margaret@chinookcorp.com</td>\n",
       "        </tr>\n",
       "        <tr>\n",
       "            <td>5</td>\n",
       "            <td>Johnson</td>\n",
       "            <td>Steve</td>\n",
       "            <td>Sales Support Agent</td>\n",
       "            <td>2</td>\n",
       "            <td>1965-03-03 00:00:00</td>\n",
       "            <td>2003-10-17 00:00:00</td>\n",
       "            <td>7727B 41 Ave</td>\n",
       "            <td>Calgary</td>\n",
       "            <td>AB</td>\n",
       "            <td>Canada</td>\n",
       "            <td>T3B 1Y7</td>\n",
       "            <td>1 (780) 836-9987</td>\n",
       "            <td>1 (780) 836-9543</td>\n",
       "            <td>steve@chinookcorp.com</td>\n",
       "        </tr>\n",
       "        <tr>\n",
       "            <td>6</td>\n",
       "            <td>Mitchell</td>\n",
       "            <td>Michael</td>\n",
       "            <td>IT Manager</td>\n",
       "            <td>1</td>\n",
       "            <td>1973-07-01 00:00:00</td>\n",
       "            <td>2003-10-17 00:00:00</td>\n",
       "            <td>5827 Bowness Road NW</td>\n",
       "            <td>Calgary</td>\n",
       "            <td>AB</td>\n",
       "            <td>Canada</td>\n",
       "            <td>T3B 0C5</td>\n",
       "            <td>+1 (403) 246-9887</td>\n",
       "            <td>+1 (403) 246-9899</td>\n",
       "            <td>michael@chinookcorp.com</td>\n",
       "        </tr>\n",
       "        <tr>\n",
       "            <td>7</td>\n",
       "            <td>King</td>\n",
       "            <td>Robert</td>\n",
       "            <td>IT Staff</td>\n",
       "            <td>6</td>\n",
       "            <td>1970-05-29 00:00:00</td>\n",
       "            <td>2004-01-02 00:00:00</td>\n",
       "            <td>590 Columbia Boulevard West</td>\n",
       "            <td>Lethbridge</td>\n",
       "            <td>AB</td>\n",
       "            <td>Canada</td>\n",
       "            <td>T1K 5N8</td>\n",
       "            <td>+1 (403) 456-9986</td>\n",
       "            <td>+1 (403) 456-8485</td>\n",
       "            <td>robert@chinookcorp.com</td>\n",
       "        </tr>\n",
       "        <tr>\n",
       "            <td>8</td>\n",
       "            <td>Callahan</td>\n",
       "            <td>Laura</td>\n",
       "            <td>IT Staff</td>\n",
       "            <td>6</td>\n",
       "            <td>1968-01-09 00:00:00</td>\n",
       "            <td>2004-03-04 00:00:00</td>\n",
       "            <td>923 7 ST NW</td>\n",
       "            <td>Lethbridge</td>\n",
       "            <td>AB</td>\n",
       "            <td>Canada</td>\n",
       "            <td>T1H 1Y8</td>\n",
       "            <td>+1 (403) 467-3351</td>\n",
       "            <td>+1 (403) 467-8772</td>\n",
       "            <td>laura@chinookcorp.com</td>\n",
       "        </tr>\n",
       "    </tbody>\n",
       "</table>"
      ],
      "text/plain": [
       "[(1, 'Adams', 'Andrew', 'General Manager', None, '1962-02-18 00:00:00', '2002-08-14 00:00:00', '11120 Jasper Ave NW', 'Edmonton', 'AB', 'Canada', 'T5K 2N1', '+1 (780) 428-9482', '+1 (780) 428-3457', 'andrew@chinookcorp.com'),\n",
       " (2, 'Edwards', 'Nancy', 'Sales Manager', 1, '1958-12-08 00:00:00', '2002-05-01 00:00:00', '825 8 Ave SW', 'Calgary', 'AB', 'Canada', 'T2P 2T3', '+1 (403) 262-3443', '+1 (403) 262-3322', 'nancy@chinookcorp.com'),\n",
       " (3, 'Peacock', 'Jane', 'Sales Support Agent', 2, '1973-08-29 00:00:00', '2002-04-01 00:00:00', '1111 6 Ave SW', 'Calgary', 'AB', 'Canada', 'T2P 5M5', '+1 (403) 262-3443', '+1 (403) 262-6712', 'jane@chinookcorp.com'),\n",
       " (4, 'Park', 'Margaret', 'Sales Support Agent', 2, '1947-09-19 00:00:00', '2003-05-03 00:00:00', '683 10 Street SW', 'Calgary', 'AB', 'Canada', 'T2P 5G3', '+1 (403) 263-4423', '+1 (403) 263-4289', 'margaret@chinookcorp.com'),\n",
       " (5, 'Johnson', 'Steve', 'Sales Support Agent', 2, '1965-03-03 00:00:00', '2003-10-17 00:00:00', '7727B 41 Ave', 'Calgary', 'AB', 'Canada', 'T3B 1Y7', '1 (780) 836-9987', '1 (780) 836-9543', 'steve@chinookcorp.com'),\n",
       " (6, 'Mitchell', 'Michael', 'IT Manager', 1, '1973-07-01 00:00:00', '2003-10-17 00:00:00', '5827 Bowness Road NW', 'Calgary', 'AB', 'Canada', 'T3B 0C5', '+1 (403) 246-9887', '+1 (403) 246-9899', 'michael@chinookcorp.com'),\n",
       " (7, 'King', 'Robert', 'IT Staff', 6, '1970-05-29 00:00:00', '2004-01-02 00:00:00', '590 Columbia Boulevard West', 'Lethbridge', 'AB', 'Canada', 'T1K 5N8', '+1 (403) 456-9986', '+1 (403) 456-8485', 'robert@chinookcorp.com'),\n",
       " (8, 'Callahan', 'Laura', 'IT Staff', 6, '1968-01-09 00:00:00', '2004-03-04 00:00:00', '923 7 ST NW', 'Lethbridge', 'AB', 'Canada', 'T1H 1Y8', '+1 (403) 467-3351', '+1 (403) 467-8772', 'laura@chinookcorp.com')]"
      ]
     },
     "execution_count": 7,
     "metadata": {},
     "output_type": "execute_result"
    }
   ],
   "source": [
    "#You can now execute SQL commands using the %sql magic command. For example, to retrieve data from a table:\n",
    "#%reload_ext sql\n",
    "#%sql SELECT * FROM \"employees\";\n",
    "%sql SELECT * FROM employees;"
   ]
  },
  {
   "cell_type": "code",
   "execution_count": 8,
   "id": "9b40a7ee",
   "metadata": {},
   "outputs": [
    {
     "name": "stdout",
     "output_type": "stream",
     "text": [
      " * sqlite:///chinook.db\n",
      "Done.\n"
     ]
    },
    {
     "data": {
      "text/html": [
       "<table>\n",
       "    <thead>\n",
       "        <tr>\n",
       "            <th>FirstName</th>\n",
       "            <th>LastName</th>\n",
       "            <th>HireDate</th>\n",
       "        </tr>\n",
       "    </thead>\n",
       "    <tbody>\n",
       "        <tr>\n",
       "            <td>Andrew</td>\n",
       "            <td>Adams</td>\n",
       "            <td>2002-08-14 00:00:00</td>\n",
       "        </tr>\n",
       "        <tr>\n",
       "            <td>Nancy</td>\n",
       "            <td>Edwards</td>\n",
       "            <td>2002-05-01 00:00:00</td>\n",
       "        </tr>\n",
       "        <tr>\n",
       "            <td>Jane</td>\n",
       "            <td>Peacock</td>\n",
       "            <td>2002-04-01 00:00:00</td>\n",
       "        </tr>\n",
       "        <tr>\n",
       "            <td>Margaret</td>\n",
       "            <td>Park</td>\n",
       "            <td>2003-05-03 00:00:00</td>\n",
       "        </tr>\n",
       "        <tr>\n",
       "            <td>Steve</td>\n",
       "            <td>Johnson</td>\n",
       "            <td>2003-10-17 00:00:00</td>\n",
       "        </tr>\n",
       "        <tr>\n",
       "            <td>Michael</td>\n",
       "            <td>Mitchell</td>\n",
       "            <td>2003-10-17 00:00:00</td>\n",
       "        </tr>\n",
       "        <tr>\n",
       "            <td>Robert</td>\n",
       "            <td>King</td>\n",
       "            <td>2004-01-02 00:00:00</td>\n",
       "        </tr>\n",
       "        <tr>\n",
       "            <td>Laura</td>\n",
       "            <td>Callahan</td>\n",
       "            <td>2004-03-04 00:00:00</td>\n",
       "        </tr>\n",
       "    </tbody>\n",
       "</table>"
      ],
      "text/plain": [
       "[('Andrew', 'Adams', '2002-08-14 00:00:00'),\n",
       " ('Nancy', 'Edwards', '2002-05-01 00:00:00'),\n",
       " ('Jane', 'Peacock', '2002-04-01 00:00:00'),\n",
       " ('Margaret', 'Park', '2003-05-03 00:00:00'),\n",
       " ('Steve', 'Johnson', '2003-10-17 00:00:00'),\n",
       " ('Michael', 'Mitchell', '2003-10-17 00:00:00'),\n",
       " ('Robert', 'King', '2004-01-02 00:00:00'),\n",
       " ('Laura', 'Callahan', '2004-03-04 00:00:00')]"
      ]
     },
     "execution_count": 8,
     "metadata": {},
     "output_type": "execute_result"
    }
   ],
   "source": [
    "%%sql\n",
    "\n",
    "SELECT\n",
    "    FirstName,\n",
    "    LastName,\n",
    "    HireDate\n",
    "FROM\n",
    "    employees;"
   ]
  },
  {
   "cell_type": "code",
   "execution_count": null,
   "id": "eeb210b4",
   "metadata": {},
   "outputs": [],
   "source": []
  }
 ],
 "metadata": {
  "kernelspec": {
   "display_name": "Python 3 (ipykernel)",
   "language": "python",
   "name": "python3"
  },
  "language_info": {
   "codemirror_mode": {
    "name": "ipython",
    "version": 3
   },
   "file_extension": ".py",
   "mimetype": "text/x-python",
   "name": "python",
   "nbconvert_exporter": "python",
   "pygments_lexer": "ipython3",
   "version": "3.9.13"
  }
 },
 "nbformat": 4,
 "nbformat_minor": 5
}
