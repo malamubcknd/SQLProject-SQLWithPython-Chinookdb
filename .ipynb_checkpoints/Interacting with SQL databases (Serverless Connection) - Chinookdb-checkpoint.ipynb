{
 "cells": [
  {
   "cell_type": "markdown",
   "id": "7f70133c",
   "metadata": {},
   "source": [
    "# LOCAL CONNECTION (output as list)"
   ]
  },
  {
   "cell_type": "code",
   "execution_count": 7,
   "id": "c6a66d4e",
   "metadata": {},
   "outputs": [],
   "source": [
    "#First, import the SQLite3 library in your Python script or Jupyter Notebook.\n",
    "import sqlite3"
   ]
  },
  {
   "cell_type": "code",
   "execution_count": 9,
   "id": "e4613fbc",
   "metadata": {},
   "outputs": [],
   "source": [
    "#Use the sqlite3.connect() function to create a connection to your SQLite database. \n",
    "#You should provide the full path to your database file as an argument to this function.\n",
    "#Replace \"path/to/your/database.db\" with the actual path to your SQLite database file. \n",
    "#Use forward slashes / as path separators, even if you are on a Windows machine.\n",
    "\n",
    "# Replace with the actual path to your SQLite database file\n",
    "db_path = \"C:/Users/DELL/Documents/All Files/Tutorial Files/Git/SQLProject-SQLWithPython-Chinookdb/chinook.db\"\n",
    "\n",
    "# Establish a connection to the database\n",
    "conn = sqlite3.connect(db_path)"
   ]
  },
  {
   "cell_type": "code",
   "execution_count": 10,
   "id": "7f32d5fb",
   "metadata": {},
   "outputs": [],
   "source": [
    "#A cursor is used to execute SQL queries and interact with the database. \n",
    "#You can think of it as a pointer or handle to the database.\n",
    "# Create a cursor object\n",
    "cursor = conn.cursor()"
   ]
  },
  {
   "cell_type": "code",
   "execution_count": 11,
   "id": "a8b549d9",
   "metadata": {},
   "outputs": [
    {
     "name": "stdout",
     "output_type": "stream",
     "text": [
      "(1, 'Adams', 'Andrew', 'General Manager', None, '1962-02-18 00:00:00', '2002-08-14 00:00:00', '11120 Jasper Ave NW', 'Edmonton', 'AB', 'Canada', 'T5K 2N1', '+1 (780) 428-9482', '+1 (780) 428-3457', 'andrew@chinookcorp.com')\n",
      "(2, 'Edwards', 'Nancy', 'Sales Manager', 1, '1958-12-08 00:00:00', '2002-05-01 00:00:00', '825 8 Ave SW', 'Calgary', 'AB', 'Canada', 'T2P 2T3', '+1 (403) 262-3443', '+1 (403) 262-3322', 'nancy@chinookcorp.com')\n",
      "(3, 'Peacock', 'Jane', 'Sales Support Agent', 2, '1973-08-29 00:00:00', '2002-04-01 00:00:00', '1111 6 Ave SW', 'Calgary', 'AB', 'Canada', 'T2P 5M5', '+1 (403) 262-3443', '+1 (403) 262-6712', 'jane@chinookcorp.com')\n",
      "(4, 'Park', 'Margaret', 'Sales Support Agent', 2, '1947-09-19 00:00:00', '2003-05-03 00:00:00', '683 10 Street SW', 'Calgary', 'AB', 'Canada', 'T2P 5G3', '+1 (403) 263-4423', '+1 (403) 263-4289', 'margaret@chinookcorp.com')\n",
      "(5, 'Johnson', 'Steve', 'Sales Support Agent', 2, '1965-03-03 00:00:00', '2003-10-17 00:00:00', '7727B 41 Ave', 'Calgary', 'AB', 'Canada', 'T3B 1Y7', '1 (780) 836-9987', '1 (780) 836-9543', 'steve@chinookcorp.com')\n",
      "(6, 'Mitchell', 'Michael', 'IT Manager', 1, '1973-07-01 00:00:00', '2003-10-17 00:00:00', '5827 Bowness Road NW', 'Calgary', 'AB', 'Canada', 'T3B 0C5', '+1 (403) 246-9887', '+1 (403) 246-9899', 'michael@chinookcorp.com')\n",
      "(7, 'King', 'Robert', 'IT Staff', 6, '1970-05-29 00:00:00', '2004-01-02 00:00:00', '590 Columbia Boulevard West', 'Lethbridge', 'AB', 'Canada', 'T1K 5N8', '+1 (403) 456-9986', '+1 (403) 456-8485', 'robert@chinookcorp.com')\n",
      "(8, 'Callahan', 'Laura', 'IT Staff', 6, '1968-01-09 00:00:00', '2004-03-04 00:00:00', '923 7 ST NW', 'Lethbridge', 'AB', 'Canada', 'T1H 1Y8', '+1 (403) 467-3351', '+1 (403) 467-8772', 'laura@chinookcorp.com')\n"
     ]
    }
   ],
   "source": [
    "#You can now execute SQL queries using the cursor. For example, to retrieve data from a table:\n",
    "# Execute a SQL query\n",
    "cursor.execute(\"SELECT * FROM employees\")\n",
    "\n",
    "# Fetch the results (e.g., all rows)\n",
    "rows = cursor.fetchall()\n",
    "\n",
    "# Print the results\n",
    "for row in rows:\n",
    "  print(row)\n",
    "\n",
    "#Each row printed out in the loop is a tuple where each element corresponds to a column in the result set"
   ]
  },
  {
   "cell_type": "code",
   "execution_count": 12,
   "id": "7e69c84b",
   "metadata": {},
   "outputs": [
    {
     "data": {
      "text/plain": [
       "tuple"
      ]
     },
     "execution_count": 12,
     "metadata": {},
     "output_type": "execute_result"
    }
   ],
   "source": [
    "type(row)"
   ]
  },
  {
   "cell_type": "code",
   "execution_count": null,
   "id": "68452610",
   "metadata": {},
   "outputs": [],
   "source": [
    "#If the datatype of row was a string with line breaks after each individual row instead of a tuple. We could have converted it into a tuple by \n",
    "#data_str = row\n",
    "\n",
    "# Use eval() to convert the string to a list of tuples\n",
    "#data_list = eval('[' + data_str.replace('\\n', '') + ']')\n",
    "\n",
    "# Check the data type\n",
    "#print(type(data_list))"
   ]
  },
  {
   "cell_type": "code",
   "execution_count": 13,
   "id": "42879d7c",
   "metadata": {},
   "outputs": [],
   "source": [
    "#In an attempt to convert this output of rows into a dataframe\n",
    "# Define column headers\n",
    "column_headers = ['EmployeeID', 'LastName', 'FirstName', 'Title', 'ReportsTo', 'BirthDate', 'HireDate', 'Address', 'City', 'State', 'Country', 'PostalCode', 'Phone', 'Fax', 'Email']"
   ]
  },
  {
   "cell_type": "code",
   "execution_count": 14,
   "id": "4f416a2f",
   "metadata": {},
   "outputs": [
    {
     "name": "stdout",
     "output_type": "stream",
     "text": [
      "   EmployeeID  LastName FirstName                Title  ReportsTo  \\\n",
      "0           1     Adams    Andrew      General Manager        NaN   \n",
      "1           2   Edwards     Nancy        Sales Manager        1.0   \n",
      "2           3   Peacock      Jane  Sales Support Agent        2.0   \n",
      "3           4      Park  Margaret  Sales Support Agent        2.0   \n",
      "4           5   Johnson     Steve  Sales Support Agent        2.0   \n",
      "5           6  Mitchell   Michael           IT Manager        1.0   \n",
      "6           7      King    Robert             IT Staff        6.0   \n",
      "7           8  Callahan     Laura             IT Staff        6.0   \n",
      "\n",
      "             BirthDate             HireDate                      Address  \\\n",
      "0  1962-02-18 00:00:00  2002-08-14 00:00:00          11120 Jasper Ave NW   \n",
      "1  1958-12-08 00:00:00  2002-05-01 00:00:00                 825 8 Ave SW   \n",
      "2  1973-08-29 00:00:00  2002-04-01 00:00:00                1111 6 Ave SW   \n",
      "3  1947-09-19 00:00:00  2003-05-03 00:00:00             683 10 Street SW   \n",
      "4  1965-03-03 00:00:00  2003-10-17 00:00:00                 7727B 41 Ave   \n",
      "5  1973-07-01 00:00:00  2003-10-17 00:00:00         5827 Bowness Road NW   \n",
      "6  1970-05-29 00:00:00  2004-01-02 00:00:00  590 Columbia Boulevard West   \n",
      "7  1968-01-09 00:00:00  2004-03-04 00:00:00                  923 7 ST NW   \n",
      "\n",
      "         City State Country PostalCode              Phone                Fax  \\\n",
      "0    Edmonton    AB  Canada    T5K 2N1  +1 (780) 428-9482  +1 (780) 428-3457   \n",
      "1     Calgary    AB  Canada    T2P 2T3  +1 (403) 262-3443  +1 (403) 262-3322   \n",
      "2     Calgary    AB  Canada    T2P 5M5  +1 (403) 262-3443  +1 (403) 262-6712   \n",
      "3     Calgary    AB  Canada    T2P 5G3  +1 (403) 263-4423  +1 (403) 263-4289   \n",
      "4     Calgary    AB  Canada    T3B 1Y7   1 (780) 836-9987   1 (780) 836-9543   \n",
      "5     Calgary    AB  Canada    T3B 0C5  +1 (403) 246-9887  +1 (403) 246-9899   \n",
      "6  Lethbridge    AB  Canada    T1K 5N8  +1 (403) 456-9986  +1 (403) 456-8485   \n",
      "7  Lethbridge    AB  Canada    T1H 1Y8  +1 (403) 467-3351  +1 (403) 467-8772   \n",
      "\n",
      "                      Email  \n",
      "0    andrew@chinookcorp.com  \n",
      "1     nancy@chinookcorp.com  \n",
      "2      jane@chinookcorp.com  \n",
      "3  margaret@chinookcorp.com  \n",
      "4     steve@chinookcorp.com  \n",
      "5   michael@chinookcorp.com  \n",
      "6    robert@chinookcorp.com  \n",
      "7     laura@chinookcorp.com  \n"
     ]
    }
   ],
   "source": [
    "import pandas as pd\n",
    "# Create a DataFrame with specified column headers\n",
    "df = pd.DataFrame(rows, columns=column_headers)\n",
    "\n",
    "# Print the DataFrame\n",
    "print(df)"
   ]
  },
  {
   "cell_type": "code",
   "execution_count": 15,
   "id": "dd3660cf",
   "metadata": {},
   "outputs": [],
   "source": [
    "#Now that i have my dataframe, i can perform data analysis on this data i got from sql database.Amazing !\n"
   ]
  },
  {
   "cell_type": "code",
   "execution_count": null,
   "id": "0f1fb131",
   "metadata": {},
   "outputs": [],
   "source": []
  }
 ],
 "metadata": {
  "kernelspec": {
   "display_name": "Python 3 (ipykernel)",
   "language": "python",
   "name": "python3"
  },
  "language_info": {
   "codemirror_mode": {
    "name": "ipython",
    "version": 3
   },
   "file_extension": ".py",
   "mimetype": "text/x-python",
   "name": "python",
   "nbconvert_exporter": "python",
   "pygments_lexer": "ipython3",
   "version": "3.9.13"
  }
 },
 "nbformat": 4,
 "nbformat_minor": 5
}
